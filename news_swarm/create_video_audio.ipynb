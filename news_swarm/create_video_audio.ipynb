{
 "cells": [
  {
   "cell_type": "code",
   "execution_count": 1,
   "id": "46ef093e-2c3f-48ab-a9f6-52e0cfb9d2a8",
   "metadata": {},
   "outputs": [
    {
     "name": "stderr",
     "output_type": "stream",
     "text": [
      "INFO:hive_agent.filestore.filestore:Initialized FileStore with base directory: hive-agent-data/files/user\n",
      "WARNING:root:'web3' extras not installed. Web3-related functionality will not be available.\n"
     ]
    },
    {
     "name": "stdout",
     "output_type": "stream",
     "text": [
      "'web3' extras not installed. Web3-related functionality will not be available.\n"
     ]
    },
    {
     "name": "stderr",
     "output_type": "stream",
     "text": [
      "WARNING:root:'web3' extras not installed. Web3-related functionality will not be available.\n"
     ]
    },
    {
     "name": "stdout",
     "output_type": "stream",
     "text": [
      "'web3' extras not installed. Web3-related functionality will not be available.\n",
      "'web3' extras not installed. Web3-related functionality will not be available.\n"
     ]
    },
    {
     "name": "stderr",
     "output_type": "stream",
     "text": [
      "WARNING:py.warnings:/Users/abdullahmarkus/VSProjects/web/news-recap-app/news_swarm/.venv/lib/python3.11/site-packages/pydantic/_internal/_fields.py:132: UserWarning: Field \"model_id\" in text_to_image has conflict with protected namespace \"model_\".\n",
      "\n",
      "You may be able to resolve this warning by setting `model_config['protected_namespaces'] = ()`.\n",
      "  warnings.warn(\n",
      "\n"
     ]
    },
    {
     "name": "stdout",
     "output_type": "stream",
     "text": [
      "/Users/abdullahmarkus/VSProjects/web/news-recap-app/news_swarm/.venv/lib/python3.11/site-packages/pydantic/_internal/_fields.py:132: UserWarning: Field \"model_id\" in text_to_image has conflict with protected namespace \"model_\".\n",
      "\n",
      "You may be able to resolve this warning by setting `model_config['protected_namespaces'] = ()`.\n",
      "  warnings.warn(\n",
      "\n",
      "/Users/abdullahmarkus/VSProjects/web/news-recap-app/news_swarm/.venv/lib/python3.11/site-packages/pydantic/_internal/_fields.py:132: UserWarning: Field \"model_id\" in text_to_image has conflict with protected namespace \"model_\".\n",
      "\n",
      "You may be able to resolve this warning by setting `model_config['protected_namespaces'] = ()`.\n",
      "  warnings.warn(\n",
      "\n",
      "/Users/abdullahmarkus/VSProjects/web/news-recap-app/news_swarm/.venv/lib/python3.11/site-packages/pydantic/_internal/_fields.py:132: UserWarning: Field \"model_id\" in text_to_image has conflict with protected namespace \"model_\".\n",
      "\n",
      "You may be able to resolve this warning by setting `model_config['protected_namespaces'] = ()`.\n",
      "  warnings.warn(\n",
      "\n"
     ]
    },
    {
     "name": "stderr",
     "output_type": "stream",
     "text": [
      "WARNING:root:'web3' extras not installed. Web3-related functionality will not be available.\n"
     ]
    },
    {
     "name": "stdout",
     "output_type": "stream",
     "text": [
      "'web3' extras not installed. Web3-related functionality will not be available.\n",
      "'web3' extras not installed. Web3-related functionality will not be available.\n",
      "'web3' extras not installed. Web3-related functionality will not be available.\n"
     ]
    },
    {
     "name": "stderr",
     "output_type": "stream",
     "text": [
      "WARNING:py.warnings:/Users/abdullahmarkus/VSProjects/web/news-recap-app/news_swarm/.venv/lib/python3.11/site-packages/pydantic/_internal/_fields.py:132: UserWarning: Field \"model_id\" in image_to_video has conflict with protected namespace \"model_\".\n",
      "\n",
      "You may be able to resolve this warning by setting `model_config['protected_namespaces'] = ()`.\n",
      "  warnings.warn(\n",
      "\n"
     ]
    },
    {
     "name": "stdout",
     "output_type": "stream",
     "text": [
      "/Users/abdullahmarkus/VSProjects/web/news-recap-app/news_swarm/.venv/lib/python3.11/site-packages/pydantic/_internal/_fields.py:132: UserWarning: Field \"model_id\" in image_to_video has conflict with protected namespace \"model_\".\n",
      "\n",
      "You may be able to resolve this warning by setting `model_config['protected_namespaces'] = ()`.\n",
      "  warnings.warn(\n",
      "\n",
      "/Users/abdullahmarkus/VSProjects/web/news-recap-app/news_swarm/.venv/lib/python3.11/site-packages/pydantic/_internal/_fields.py:132: UserWarning: Field \"model_id\" in image_to_video has conflict with protected namespace \"model_\".\n",
      "\n",
      "You may be able to resolve this warning by setting `model_config['protected_namespaces'] = ()`.\n",
      "  warnings.warn(\n",
      "\n",
      "/Users/abdullahmarkus/VSProjects/web/news-recap-app/news_swarm/.venv/lib/python3.11/site-packages/pydantic/_internal/_fields.py:132: UserWarning: Field \"model_id\" in image_to_video has conflict with protected namespace \"model_\".\n",
      "\n",
      "You may be able to resolve this warning by setting `model_config['protected_namespaces'] = ()`.\n",
      "  warnings.warn(\n",
      "\n",
      "/Users/abdullahmarkus/VSProjects/web/news-recap-app/news_swarm/.venv/lib/python3.11/site-packages/pydantic/_internal/_fields.py:132: UserWarning: Field \"model_id\" in image_to_video has conflict with protected namespace \"model_\".\n",
      "\n",
      "You may be able to resolve this warning by setting `model_config['protected_namespaces'] = ()`.\n",
      "  warnings.warn(\n",
      "\n"
     ]
    },
    {
     "name": "stderr",
     "output_type": "stream",
     "text": [
      "WARNING:root:'web3' extras not installed. Web3-related functionality will not be available.\n"
     ]
    },
    {
     "name": "stdout",
     "output_type": "stream",
     "text": [
      "'web3' extras not installed. Web3-related functionality will not be available.\n",
      "'web3' extras not installed. Web3-related functionality will not be available.\n",
      "'web3' extras not installed. Web3-related functionality will not be available.\n",
      "'web3' extras not installed. Web3-related functionality will not be available.\n"
     ]
    },
    {
     "name": "stderr",
     "output_type": "stream",
     "text": [
      "WARNING:root:'web3' extras not installed. Web3-related functionality will not be available.\n"
     ]
    },
    {
     "name": "stdout",
     "output_type": "stream",
     "text": [
      "'web3' extras not installed. Web3-related functionality will not be available.\n",
      "'web3' extras not installed. Web3-related functionality will not be available.\n",
      "'web3' extras not installed. Web3-related functionality will not be available.\n",
      "'web3' extras not installed. Web3-related functionality will not be available.\n",
      "'web3' extras not installed. Web3-related functionality will not be available.\n"
     ]
    },
    {
     "name": "stderr",
     "output_type": "stream",
     "text": [
      "WARNING:root:'web3' extras not installed. Web3-related functionality will not be available.\n"
     ]
    },
    {
     "name": "stdout",
     "output_type": "stream",
     "text": [
      "'web3' extras not installed. Web3-related functionality will not be available.\n",
      "'web3' extras not installed. Web3-related functionality will not be available.\n",
      "'web3' extras not installed. Web3-related functionality will not be available.\n",
      "'web3' extras not installed. Web3-related functionality will not be available.\n",
      "'web3' extras not installed. Web3-related functionality will not be available.\n",
      "'web3' extras not installed. Web3-related functionality will not be available.\n"
     ]
    },
    {
     "name": "stderr",
     "output_type": "stream",
     "text": [
      "WARNING:root:'web3' extras not installed. Web3-related functionality will not be available.\n"
     ]
    },
    {
     "name": "stdout",
     "output_type": "stream",
     "text": [
      "'web3' extras not installed. Web3-related functionality will not be available.\n",
      "'web3' extras not installed. Web3-related functionality will not be available.\n",
      "'web3' extras not installed. Web3-related functionality will not be available.\n",
      "'web3' extras not installed. Web3-related functionality will not be available.\n",
      "'web3' extras not installed. Web3-related functionality will not be available.\n",
      "'web3' extras not installed. Web3-related functionality will not be available.\n",
      "'web3' extras not installed. Web3-related functionality will not be available.\n"
     ]
    },
    {
     "name": "stderr",
     "output_type": "stream",
     "text": [
      "WARNING:llama_index.core.agent.react.formatter:ReActChatFormatter.from_context is deprecated, please use `from_defaults` instead.\n"
     ]
    },
    {
     "name": "stdout",
     "output_type": "stream",
     "text": [
      "ReActChatFormatter.from_context is deprecated, please use `from_defaults` instead.\n",
      "ReActChatFormatter.from_context is deprecated, please use `from_defaults` instead.\n",
      "ReActChatFormatter.from_context is deprecated, please use `from_defaults` instead.\n",
      "ReActChatFormatter.from_context is deprecated, please use `from_defaults` instead.\n",
      "ReActChatFormatter.from_context is deprecated, please use `from_defaults` instead.\n",
      "ReActChatFormatter.from_context is deprecated, please use `from_defaults` instead.\n",
      "ReActChatFormatter.from_context is deprecated, please use `from_defaults` instead.\n"
     ]
    }
   ],
   "source": [
    "from hive_swarm.tools import video_editor"
   ]
  },
  {
   "cell_type": "code",
   "execution_count": 3,
   "id": "354c0b0f-014e-41a7-9518-8101d54bec3a",
   "metadata": {},
   "outputs": [
    {
     "name": "stdout",
     "output_type": "stream",
     "text": [
      "Moviepy - Building video technology_news.mp4.\n",
      "MoviePy - Writing audio in technology_newsTEMP_MPY_wvf_snd.mp4\n"
     ]
    },
    {
     "name": "stderr",
     "output_type": "stream",
     "text": [
      "                                                                                                    \r"
     ]
    },
    {
     "name": "stdout",
     "output_type": "stream",
     "text": [
      "MoviePy - Done.\n",
      "Moviepy - Writing video technology_news.mp4\n",
      "\n"
     ]
    },
    {
     "name": "stderr",
     "output_type": "stream",
     "text": [
      "                                                                                                    \r"
     ]
    },
    {
     "name": "stdout",
     "output_type": "stream",
     "text": [
      "Moviepy - Done !\n",
      "Moviepy - video ready technology_news.mp4\n"
     ]
    },
    {
     "data": {
      "text/plain": [
       "'/Users/abdullahmarkus/VSProjects/web/news-recap-app/news_swarm/technology_news.mp4'"
      ]
     },
     "execution_count": 3,
     "metadata": {},
     "output_type": "execute_result"
    }
   ],
   "source": [
    "video_list = [\"./hive-agent-data/output/Technology/image_to_video_agent/ai_healthcare_video_1.mp4\",\n",
    "                \"./hive-agent-data/output/Technology/image_to_video_agent/quantum_computing_video_1.mp4\",              \n",
    "              \"./hive-agent-data/output/Technology/image_to_video_agent/5g_network_video_1.mp4\",\n",
    "              \"./hive-agent-data/output/Technology/image_to_video_agent/renewable_energy_video_1.mp4\",\n",
    "              \"./hive-agent-data/output/Technology/image_to_video_agent/cybersecurity_threats_video_1.mp4\"]\n",
    "\n",
    "video_editor(video_files=video_list, transition_type=None, output_filename=\"technology_news.mp4\", audio_file=\"./speech.mp3\")\n",
    "              "
   ]
  },
  {
   "cell_type": "code",
   "execution_count": null,
   "id": "4492ff45-f3d9-405f-b57a-462149b18718",
   "metadata": {},
   "outputs": [],
   "source": []
  }
 ],
 "metadata": {
  "kernelspec": {
   "display_name": "Python 3 (ipykernel)",
   "language": "python",
   "name": "python3"
  },
  "language_info": {
   "codemirror_mode": {
    "name": "ipython",
    "version": 3
   },
   "file_extension": ".py",
   "mimetype": "text/x-python",
   "name": "python",
   "nbconvert_exporter": "python",
   "pygments_lexer": "ipython3",
   "version": "3.11.9"
  }
 },
 "nbformat": 4,
 "nbformat_minor": 5
}
